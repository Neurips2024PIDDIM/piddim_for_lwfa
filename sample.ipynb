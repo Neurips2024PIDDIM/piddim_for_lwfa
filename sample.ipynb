{
 "cells": [
  {
   "cell_type": "code",
   "execution_count": 1,
   "metadata": {},
   "outputs": [
    {
     "data": {
      "application/vnd.jupyter.widget-view+json": {
       "model_id": "ba813bba74e04be19cac8c11d4ade83a",
       "version_major": 2,
       "version_minor": 0
      },
      "text/plain": [
       "Text(value='cuda:1', description='Device:')"
      ]
     },
     "metadata": {},
     "output_type": "display_data"
    },
    {
     "data": {
      "application/vnd.jupyter.widget-view+json": {
       "model_id": "f0b7c9b69907450e843ea7eb4367a2d8",
       "version_major": 2,
       "version_minor": 0
      },
      "text/plain": [
       "Text(value='1', description='Model:')"
      ]
     },
     "metadata": {},
     "output_type": "display_data"
    },
    {
     "data": {
      "application/vnd.jupyter.widget-view+json": {
       "model_id": "c6c840cda3a245a0ad0ee537c8fdf594",
       "version_major": 2,
       "version_minor": 0
      },
      "text/plain": [
       "IntSlider(value=2, description='n', max=64, min=1)"
      ]
     },
     "metadata": {},
     "output_type": "display_data"
    },
    {
     "data": {
      "application/vnd.jupyter.widget-view+json": {
       "model_id": "8349370318a3400daeeca75b2ca135df",
       "version_major": 2,
       "version_minor": 0
      },
      "text/plain": [
       "IntSlider(value=15, description='Energy')"
      ]
     },
     "metadata": {},
     "output_type": "display_data"
    },
    {
     "data": {
      "application/vnd.jupyter.widget-view+json": {
       "model_id": "2e7f2ff39d3643ddab236d35474ae919",
       "version_major": 2,
       "version_minor": 0
      },
      "text/plain": [
       "IntSlider(value=15, description='Pressure')"
      ]
     },
     "metadata": {},
     "output_type": "display_data"
    },
    {
     "data": {
      "application/vnd.jupyter.widget-view+json": {
       "model_id": "54f3b034965d4a7e8d2728af1b8881ff",
       "version_major": 2,
       "version_minor": 0
      },
      "text/plain": [
       "IntSlider(value=20, description='Acquisition time', min=1)"
      ]
     },
     "metadata": {},
     "output_type": "display_data"
    },
    {
     "data": {
      "application/vnd.jupyter.widget-view+json": {
       "model_id": "60ba5244b3a7486c80d872163ec88906",
       "version_major": 2,
       "version_minor": 0
      },
      "text/plain": [
       "IntSlider(value=2, description='Energy xmin', min=1)"
      ]
     },
     "metadata": {},
     "output_type": "display_data"
    },
    {
     "data": {
      "application/vnd.jupyter.widget-view+json": {
       "model_id": "3a3e2264264348299556de1131ce129b",
       "version_major": 2,
       "version_minor": 0
      },
      "text/plain": [
       "IntSlider(value=30, description='Energy xmax', min=1)"
      ]
     },
     "metadata": {},
     "output_type": "display_data"
    },
    {
     "data": {
      "application/vnd.jupyter.widget-view+json": {
       "model_id": "e211db527a5645049d934114234f3f4d",
       "version_major": 2,
       "version_minor": 0
      },
      "text/plain": [
       "Button(description='Generate', style=ButtonStyle())"
      ]
     },
     "metadata": {},
     "output_type": "display_data"
    },
    {
     "data": {
      "application/vnd.jupyter.widget-view+json": {
       "model_id": "8bb2c13564ad44fbacd4ab417c1dc136",
       "version_major": 2,
       "version_minor": 0
      },
      "text/plain": [
       "Button(description='Clear Output', style=ButtonStyle())"
      ]
     },
     "metadata": {},
     "output_type": "display_data"
    },
    {
     "data": {
      "application/vnd.jupyter.widget-view+json": {
       "model_id": "fdf641caa07e4bae9ab42f53bb37628d",
       "version_major": 2,
       "version_minor": 0
      },
      "text/plain": [
       "Output()"
      ]
     },
     "metadata": {},
     "output_type": "display_data"
    }
   ],
   "source": [
    "import ipywidgets as widgets\n",
    "from IPython.display import display, clear_output\n",
    "import torch\n",
    "from src.diffusion import SpacedDiffusion\n",
    "from src.modules import UNet_conditional\n",
    "from src.utils import plot_image_pairs, save_samples\n",
    "from metrics import create_sections_list, cosine_step_schedule\n",
    "\n",
    "# Define the widgets\n",
    "device_widget = widgets.Text(description=\"Device:\", value=\"cuda:1\")\n",
    "model_widget = widgets.Text(description=\"Model:\", value=\"1\")\n",
    "slider_n = widgets.IntSlider(description=\"n\", min=1, max=64, value=2)\n",
    "slider_e = widgets.IntSlider(description=\"Energy\", min=0, value=15)\n",
    "slider_p = widgets.IntSlider(description=\"Pressure\", min=0, value=15)\n",
    "slider_ms = widgets.IntSlider(description=\"Acquisition time\", min=1, value=20)\n",
    "slider_minx = widgets.IntSlider(description=\"Energy xmin\", min=1, max=100, value=2)\n",
    "slider_maxx = widgets.IntSlider(description=\"Energy xmax\", min=1, max=100, value=30)\n",
    "button = widgets.Button(description=\"Generate\")\n",
    "output = widgets.Output()\n",
    "clear_button = widgets.Button(description=\"Clear Output\")\n",
    "\n",
    "def clear_output_on_click(b):\n",
    "    with output:\n",
    "        clear_output()\n",
    "\n",
    "def generate(b):\n",
    "    model_name = model_widget.value\n",
    "    device = device_widget.value\n",
    "    n = slider_n.value\n",
    "    E = slider_e.value\n",
    "    P = slider_p.value\n",
    "    ms = slider_ms.value\n",
    "\n",
    "    xmin = slider_minx.value\n",
    "    xmax = slider_maxx.value\n",
    "    \n",
    "    with output:\n",
    "        if xmax <= xmin:\n",
    "            print(\"xmax must be above the value of xmin\")\n",
    "            return\n",
    "        if model_name == \"1\":\n",
    "            path = \"models/nophys/ema_ckpt.pt\"\n",
    "            print(\"Loading \", path)\n",
    "            model = UNet_conditional(img_width=128, img_height=64, feat_num=3, device=device).to(device)\n",
    "            ckpt = torch.load(path, map_location=device)\n",
    "            model.load_state_dict(ckpt)\n",
    "            sampler = SpacedDiffusion(beta_start=1e-4, beta_end=0.02, noise_steps=1000, section_counts=create_sections_list(10, 25, cosine_step_schedule), img_height=64, img_width=128, device=device, rescale_timesteps=False)\n",
    "            y = torch.Tensor([E,P,ms]).to(device).float().unsqueeze(0) # parameter vector\n",
    "            x = sampler.ddim_sample_loop(model=model, y=y, cfg_scale=1, device=device, eta=1, n=n)\n",
    "            plot_image_pairs(x, xlim=[xmin,xmax], acquisition_time_ms=ms, beam_point_y=128, beam_point_x=62, energy=E, pressure=P, model=1)\n",
    "        elif model_name ==\"2\":\n",
    "            path = \"models/cossched/ema_ckpt.pt\"\n",
    "            print(\"Loading \", path)\n",
    "            model = UNet_conditional(img_width=128, img_height=64, feat_num=3, device=device).to(device)\n",
    "            ckpt = torch.load(path, map_location=device)\n",
    "            model.load_state_dict(ckpt)\n",
    "            sampler = SpacedDiffusion(beta_start=1e-4, beta_end=0.02, noise_steps=1000, section_counts=[15], img_height=64, img_width=128, device=device, rescale_timesteps=False)\n",
    "            y = torch.Tensor([E,P,ms]).to(device).float().unsqueeze(0) # parameter vector\n",
    "            x = sampler.ddim_sample_loop(model=model, y=y, cfg_scale=1, device=device, eta=1, n=n)\n",
    "            plot_image_pairs(x, xlim=[xmin,xmax], acquisition_time_ms=ms, beam_point_y=128, beam_point_x=62, energy=E, pressure=P, model=2)\n",
    "\n",
    "\n",
    "# Link the button click to the function\n",
    "button.on_click(generate)\n",
    "clear_button.on_click(clear_output_on_click)\n",
    "\n",
    "# Display the widgets\n",
    "display(device_widget, model_widget, slider_n, slider_e, slider_p, slider_ms, slider_minx, slider_maxx, button, clear_button, output)\n"
   ]
  }
 ],
 "metadata": {
  "kernelspec": {
   "display_name": "eli",
   "language": "python",
   "name": "python3"
  },
  "language_info": {
   "codemirror_mode": {
    "name": "ipython",
    "version": 3
   },
   "file_extension": ".py",
   "mimetype": "text/x-python",
   "name": "python",
   "nbconvert_exporter": "python",
   "pygments_lexer": "ipython3",
   "version": "3.10.12"
  },
  "orig_nbformat": 4
 },
 "nbformat": 4,
 "nbformat_minor": 2
}

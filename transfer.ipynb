{
 "cells": [
  {
   "cell_type": "code",
   "execution_count": null,
   "metadata": {},
   "outputs": [],
   "source": [
    "from src.modules import *\n",
    "import pickle\n",
    "import os"
   ]
  },
  {
   "cell_type": "code",
   "execution_count": null,
   "metadata": {},
   "outputs": [],
   "source": [
    "device = 'cuda:3'"
   ]
  },
  {
   "cell_type": "code",
   "execution_count": null,
   "metadata": {},
   "outputs": [],
   "source": [
    "diffAE = UNet_conditional(img_width=128, img_height=64, feat_num=3, device=device).to(device)\n",
    "with open('models/edm-imagenet-64x64-cond-adm.pkl', 'rb') as f: # model downloaded from https://nvlabs-fi-cdn.nvidia.com/edm/pretrained/\n",
    "    edm = pickle.load(f)[\"ema\"].model"
   ]
  },
  {
   "cell_type": "code",
   "execution_count": null,
   "metadata": {},
   "outputs": [],
   "source": [
    "def generate_indices(length, max_value):\n",
    "    unique_values = torch.arange(max_value)\n",
    "    num_repetitions = length - max_value\n",
    "    repetitions = torch.randint(high=max_value, size=(num_repetitions,))\n",
    "    indices = torch.cat((unique_values, repetitions))\n",
    "    \n",
    "    return indices\n",
    "\n",
    "def load_weights(src_layer, dst_layer):\n",
    "    indices = []\n",
    "    if len(src_layer.weight.shape) != len(dst_layer.weight.shape):\n",
    "        print(\"Source layer has \", len(src_layer.shape), \" dimensions, but destination layer has \", len(dst_layer.shape), \" dimensions.\")\n",
    "        return\n",
    "    for idx in range(len(dst_layer.weight.shape)):\n",
    "        if dst_layer.weight.shape[idx] > src_layer.weight.shape[idx]:\n",
    "            indices.append(generate_indices(dst_layer.weight.shape[idx], src_layer.weight.shape[idx]))\n",
    "        elif dst_layer.weight.shape[idx] < src_layer.weight.shape[idx]:\n",
    "            # print(src_layer.weight.shape[idx])\n",
    "            indices.append(torch.randperm(src_layer.weight.shape[idx])[:dst_layer.weight.shape[idx]])\n",
    "        else:\n",
    "            indices.append(torch.arange(0, src_layer.weight.shape[idx], dtype=int))\n",
    "    extracted_weights = torch.nn.Parameter(src_layer.weight[indices[0]][:,indices[1]][:,:,indices[2]][:,:,:,indices[3]])\n",
    "    dst_layer.weight = extracted_weights\n",
    "    return dst_layer"
   ]
  },
  {
   "cell_type": "code",
   "execution_count": null,
   "metadata": {},
   "outputs": [],
   "source": [
    "# for 2 blocks\n",
    "layers = [  diffAE.inc.double_conv[0],                            edm.enc[\"64x64_conv\"],\n",
    "            diffAE.inc.double_conv[3],                            edm.enc[\"64x64_block0\"].conv0,\n",
    "            diffAE.down1.maxpool_conv[1].double_conv[0],          edm.enc[\"64x64_block0\"].conv1,\n",
    "            diffAE.down1.maxpool_conv[1].double_conv[3],          edm.enc[\"64x64_block1\"].conv0,\n",
    "            diffAE.down1.maxpool_conv[2].double_conv[0],          edm.enc[\"64x64_block1\"].conv1,\n",
    "            diffAE.down1.maxpool_conv[2].double_conv[3],          edm.enc[\"64x64_block2\"].conv0,\n",
    "            diffAE.down2.maxpool_conv[1].double_conv[0],          edm.enc[\"64x64_block2\"].conv1,\n",
    "            diffAE.down2.maxpool_conv[1].double_conv[3],          edm.enc[\"32x32_down\"].conv0,\n",
    "            diffAE.down2.maxpool_conv[2].double_conv[0],          edm.enc[\"32x32_down\"].conv1,  # dim 0 mismatch\n",
    "            diffAE.down2.maxpool_conv[2].double_conv[3],          edm.enc[\"32x32_block0\"].conv0, # dim 1 mismatch\n",
    "            diffAE.bot1.double_conv[0],                           edm.dec[\"8x8_in0\"].conv0,\n",
    "            diffAE.bot1.double_conv[3],                           edm.dec[\"8x8_in0\"].conv1,\n",
    "            diffAE.bot2.double_conv[0],                           edm.dec[\"8x8_in1\"].conv0,\n",
    "            diffAE.bot2.double_conv[3],                           edm.dec[\"8x8_in1\"].conv1, \n",
    "            diffAE.bot3.double_conv[0],                           edm.dec[\"8x8_block0\"].conv0,\n",
    "            diffAE.bot3.double_conv[3],                           edm.dec[\"8x8_block0\"].conv1,\n",
    "            diffAE.up1.conv[0].double_conv[0],                    edm.dec[\"64x64_block0\"].conv0,\n",
    "            diffAE.up1.conv[0].double_conv[3],                    edm.dec[\"64x64_block0\"].conv1,\n",
    "            diffAE.up1.conv[1].double_conv[0],                    edm.dec[\"64x64_block1\"].conv0,\n",
    "            diffAE.up1.conv[1].double_conv[3],                    edm.dec[\"64x64_block1\"].conv1,\n",
    "            diffAE.up2.conv[0].double_conv[0],                    edm.dec[\"64x64_block2\"].conv0,\n",
    "            diffAE.up2.conv[0].double_conv[3],                    edm.dec[\"64x64_block2\"].conv1,\n",
    "            diffAE.up2.conv[1].double_conv[0],                    edm.dec[\"64x64_block3\"].conv0,\n",
    "            diffAE.up2.conv[1].double_conv[3],                    edm.dec[\"64x64_block3\"].conv1,\n",
    "            diffAE.outc,                                          edm.out_conv,\n",
    "]\n",
    "src_layers = layers[1::2]\n",
    "dst_layers = layers[::2]"
   ]
  },
  {
   "cell_type": "code",
   "execution_count": null,
   "metadata": {},
   "outputs": [],
   "source": [
    "# for 3 blocks\n",
    "layers = [  diffAE.inc.double_conv[0],                            edm.enc[\"64x64_conv\"],\n",
    "            diffAE.inc.double_conv[3],                            edm.enc[\"64x64_block0\"].conv0,\n",
    "            diffAE.down1.maxpool_conv[1].double_conv[0],          edm.enc[\"64x64_block0\"].conv1,\n",
    "            diffAE.down1.maxpool_conv[1].double_conv[3],          edm.enc[\"64x64_block1\"].conv0,\n",
    "            diffAE.down1.maxpool_conv[2].double_conv[0],          edm.enc[\"64x64_block1\"].conv1,\n",
    "            diffAE.down1.maxpool_conv[2].double_conv[3],          edm.enc[\"64x64_block2\"].conv0,\n",
    "            diffAE.down2.maxpool_conv[1].double_conv[0],          edm.enc[\"64x64_block2\"].conv1,\n",
    "            diffAE.down2.maxpool_conv[1].double_conv[3],          edm.enc[\"32x32_down\"].conv0,\n",
    "            diffAE.down2.maxpool_conv[2].double_conv[0],          edm.enc[\"32x32_down\"].conv1,  # dim 0 mismatch\n",
    "            diffAE.down2.maxpool_conv[2].double_conv[3],          edm.enc[\"32x32_block0\"].conv0, # dim 1 mismatch\n",
    "            diffAE.down3.maxpool_conv[1].double_conv[0],          edm.enc[\"32x32_block0\"].conv1,\n",
    "            diffAE.down3.maxpool_conv[1].double_conv[3],          edm.enc[\"32x32_block1\"].conv0,\n",
    "            diffAE.down3.maxpool_conv[2].double_conv[0],          edm.enc[\"32x32_block1\"].conv1,\n",
    "            diffAE.down3.maxpool_conv[2].double_conv[3],          edm.enc[\"32x32_block2\"].conv0,\n",
    "            diffAE.bot1.double_conv[0],                           edm.dec[\"8x8_in0\"].conv0,\n",
    "            diffAE.bot1.double_conv[3],                           edm.dec[\"8x8_in0\"].conv1,\n",
    "            diffAE.bot2.double_conv[0],                           edm.dec[\"8x8_in1\"].conv0,\n",
    "            diffAE.bot2.double_conv[3],                           edm.dec[\"8x8_in1\"].conv1, \n",
    "            diffAE.bot3.double_conv[0],                           edm.dec[\"8x8_block0\"].conv0,\n",
    "            diffAE.bot3.double_conv[3],                           edm.dec[\"8x8_block0\"].conv1,\n",
    "            diffAE.up1.conv[0].double_conv[0],                    edm.dec[\"32x32_block1\"].conv0,\n",
    "            diffAE.up1.conv[0].double_conv[3],                    edm.dec[\"32x32_block1\"].conv1,\n",
    "            diffAE.up1.conv[1].double_conv[0],                    edm.dec[\"32x32_block2\"].conv0,\n",
    "            diffAE.up1.conv[1].double_conv[3],                    edm.dec[\"32x32_block2\"].conv1,\n",
    "            diffAE.up2.conv[0].double_conv[0],                    edm.dec[\"32x32_block3\"].conv0,\n",
    "            diffAE.up2.conv[0].double_conv[3],                    edm.dec[\"32x32_block3\"].conv1,\n",
    "            diffAE.up2.conv[1].double_conv[0],                    edm.dec[\"64x64_up\"].conv0,\n",
    "            diffAE.up2.conv[1].double_conv[3],                    edm.dec[\"64x64_up\"].conv1,\n",
    "            diffAE.up3.conv[0].double_conv[0],                    edm.dec[\"64x64_block0\"].conv0,\n",
    "            diffAE.up3.conv[0].double_conv[3],                    edm.dec[\"64x64_block0\"].conv1,\n",
    "            diffAE.up3.conv[1].double_conv[0],                    edm.dec[\"64x64_block1\"].conv0,\n",
    "            diffAE.up3.conv[1].double_conv[3],                    edm.dec[\"64x64_block1\"].conv1,\n",
    "            diffAE.up4.conv[0].double_conv[0],                    edm.dec[\"64x64_block2\"].conv0,\n",
    "            diffAE.up4.conv[0].double_conv[3],                    edm.dec[\"64x64_block2\"].conv1,\n",
    "            diffAE.up4.conv[1].double_conv[0],                    edm.dec[\"64x64_block3\"].conv0,\n",
    "            diffAE.up4.conv[1].double_conv[3],                    edm.dec[\"64x64_block3\"].conv1,\n",
    "            diffAE.outc,                                          edm.out_conv,\n",
    "]\n",
    "src_layers = layers[1::2]\n",
    "dst_layers = layers[::2]"
   ]
  },
  {
   "cell_type": "code",
   "execution_count": null,
   "metadata": {},
   "outputs": [],
   "source": [
    "# for 4 blocks\n",
    "layers = [  diffAE.inc.double_conv[0],                            edm.enc[\"64x64_conv\"],\n",
    "            diffAE.inc.double_conv[3],                            edm.enc[\"64x64_block0\"].conv0,\n",
    "            diffAE.down1.maxpool_conv[1].double_conv[0],          edm.enc[\"64x64_block0\"].conv1,\n",
    "            diffAE.down1.maxpool_conv[1].double_conv[3],          edm.enc[\"64x64_block1\"].conv0,\n",
    "            diffAE.down1.maxpool_conv[2].double_conv[0],          edm.enc[\"64x64_block1\"].conv1,\n",
    "            diffAE.down1.maxpool_conv[2].double_conv[3],          edm.enc[\"64x64_block2\"].conv0,\n",
    "            diffAE.down2.maxpool_conv[1].double_conv[0],          edm.enc[\"64x64_block2\"].conv1,\n",
    "            diffAE.down2.maxpool_conv[1].double_conv[3],          edm.enc[\"32x32_down\"].conv0,\n",
    "            diffAE.down2.maxpool_conv[2].double_conv[0],          edm.enc[\"32x32_down\"].conv1,  # dim 0 mismatch\n",
    "            diffAE.down2.maxpool_conv[2].double_conv[3],          edm.enc[\"32x32_block0\"].conv0, # dim 1 mismatch\n",
    "            diffAE.down3.maxpool_conv[1].double_conv[0],          edm.enc[\"32x32_block0\"].conv1,\n",
    "            diffAE.down3.maxpool_conv[1].double_conv[3],          edm.enc[\"32x32_block1\"].conv0,\n",
    "            diffAE.down3.maxpool_conv[2].double_conv[0],          edm.enc[\"32x32_block1\"].conv1,\n",
    "            diffAE.down3.maxpool_conv[2].double_conv[3],          edm.enc[\"32x32_block2\"].conv0,\n",
    "            diffAE.down4.maxpool_conv[1].double_conv[0],          edm.enc[\"32x32_block2\"].conv1,\n",
    "            diffAE.down4.maxpool_conv[1].double_conv[3],          edm.enc[\"16x16_down\"].conv0,\n",
    "            diffAE.down4.maxpool_conv[2].double_conv[0],          edm.enc[\"16x16_down\"].conv1,\n",
    "            diffAE.down4.maxpool_conv[2].double_conv[3],          edm.enc[\"16x16_block0\"].conv0,\n",
    "            diffAE.bot1.double_conv[0],                           edm.dec[\"8x8_in0\"].conv0,\n",
    "            diffAE.bot1.double_conv[3],                           edm.dec[\"8x8_in0\"].conv1,\n",
    "            diffAE.bot2.double_conv[0],                           edm.dec[\"8x8_in1\"].conv0,\n",
    "            diffAE.bot2.double_conv[3],                           edm.dec[\"8x8_in1\"].conv1, \n",
    "            diffAE.bot3.double_conv[0],                           edm.dec[\"8x8_block0\"].conv0,\n",
    "            diffAE.bot3.double_conv[3],                           edm.dec[\"8x8_block0\"].conv1,\n",
    "            diffAE.up1.conv[0].double_conv[0],                    edm.dec[\"32x32_block3\"].conv0,\n",
    "            diffAE.up1.conv[0].double_conv[3],                    edm.dec[\"32x32_block3\"].conv1,\n",
    "            diffAE.up1.conv[1].double_conv[0],                    edm.dec[\"64x64_up\"].conv0,\n",
    "            diffAE.up1.conv[1].double_conv[3],                    edm.dec[\"64x64_up\"].conv1,\n",
    "            diffAE.up2.conv[0].double_conv[0],                    edm.dec[\"64x64_block0\"].conv0,\n",
    "            diffAE.up2.conv[0].double_conv[3],                    edm.dec[\"64x64_block0\"].conv1,\n",
    "            diffAE.up2.conv[1].double_conv[0],                    edm.dec[\"64x64_block1\"].conv0,\n",
    "            diffAE.up2.conv[1].double_conv[3],                    edm.dec[\"64x64_block1\"].conv1,\n",
    "            diffAE.up3.conv[0].double_conv[0],                    edm.dec[\"64x64_block2\"].conv0,\n",
    "            diffAE.up3.conv[0].double_conv[3],                    edm.dec[\"64x64_block2\"].conv1,\n",
    "            diffAE.up3.conv[1].double_conv[0],                    edm.dec[\"64x64_block3\"].conv0,\n",
    "            diffAE.up3.conv[1].double_conv[3],                    edm.dec[\"64x64_block3\"].conv1,\n",
    "            diffAE.outc,                                          edm.out_conv,\n",
    "]\n",
    "src_layers = layers[1::2]\n",
    "dst_layers = layers[::2]"
   ]
  },
  {
   "cell_type": "code",
   "execution_count": null,
   "metadata": {},
   "outputs": [],
   "source": [
    "for src_layer, dst_layer in zip(src_layers, dst_layers):\n",
    "    load_weights(src_layer, dst_layer)"
   ]
  },
  {
   "cell_type": "code",
   "execution_count": null,
   "metadata": {},
   "outputs": [],
   "source": [
    "torch.save(diffAE.state_dict(), os.path.join(\"models\", \"transfered.pt\"))"
   ]
  }
 ],
 "metadata": {
  "kernelspec": {
   "display_name": "eli",
   "language": "python",
   "name": "python3"
  },
  "language_info": {
   "codemirror_mode": {
    "name": "ipython",
    "version": 3
   },
   "file_extension": ".py",
   "mimetype": "text/x-python",
   "name": "python",
   "nbconvert_exporter": "python",
   "pygments_lexer": "ipython3",
   "version": "3.10.12"
  },
  "orig_nbformat": 4
 },
 "nbformat": 4,
 "nbformat_minor": 2
}
